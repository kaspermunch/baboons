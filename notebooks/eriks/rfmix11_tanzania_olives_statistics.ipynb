{
 "cells": [
  {
   "cell_type": "code",
   "execution_count": 1,
   "id": "26494af9",
   "metadata": {},
   "outputs": [],
   "source": [
    "%run ../scripts/notebook_settings_lean.py\n",
    "from scipy import stats\n",
    "from horizonplot import horizonplot\n",
    "from chromwindow import window\n",
    "import zarr\n",
    "import allel"
   ]
  },
  {
   "cell_type": "markdown",
   "id": "166f6711",
   "metadata": {},
   "source": [
    "Loading metadata"
   ]
  },
  {
   "cell_type": "code",
   "execution_count": 2,
   "id": "714a8d74",
   "metadata": {},
   "outputs": [],
   "source": [
    "zarr_chrX_dir = \"/home/eriks/baboondiversity/data/PG_panu3_zarr_12_03_2021/callset.zarr/chrX\"\n",
    "#Opening the zarr data\n",
    "callset_f = zarr.open_group(zarr_chrX_dir, mode=\"r\")\n",
    "gt_f = allel.GenotypeArray(callset_f[\"calldata/GT\"])\n",
    "pos_f = callset_f[\"variants/POS\"][:]\n",
    "\n",
    "zarr_all_chrX_dir = \"/home/eriks/baboondiversity/data/PG_panu3_zarr_12_03_2021/callset.zarr/all_chrX\"\n",
    "#Opening the zarr data\n",
    "callset_all_chrX = zarr.open_group(zarr_all_chrX_dir, mode=\"r\")\n",
    "gt_all_chrX = allel.GenotypeArray(callset_all_chrX[\"calldata/GT\"])\n",
    "pos_all_chrX = callset_all_chrX[\"variants/POS\"][:]\n",
    "\n",
    "zarr_dipmale_chrX = \"/home/eriks/baboondiversity/data/PG_panu3_zarr_12_03_2021/callset.zarr/dipmale_chrX\"\n",
    "#Opening the zarr data\n",
    "callset_dipmale_chrX = zarr.open_group(zarr_dipmale_chrX, mode=\"r\")"
   ]
  },
  {
   "cell_type": "code",
   "execution_count": 3,
   "id": "f7c7ccae",
   "metadata": {},
   "outputs": [],
   "source": [
    "hap_starter = pd.read_csv(\"../data/haploid_metadata.txt\", sep =\" \")\n",
    "meta_data_samples_sci = pd.read_csv(\"../data/Papio_metadata_with_clustering_sci.txt\", sep =\" \")\n",
    "meta_data_samples = pd.read_csv(\"../data/Papio_metadata_with_clustering.txt\", sep =\" \")\n",
    "\n",
    "#Generate a mapping between metadata and callset - repeat for chrX females to be sure of no errors.\n",
    "ID_to_callset = dict(zip(callset_all_chrX[\"samples\"][:], range(len(callset_all_chrX[\"samples\"][:]))))\n",
    "hap_meta_data_samples = hap_starter.loc[hap_starter.PGDP_ID.isin(callset_all_chrX[\"samples\"][:])].copy()\n",
    "hap_meta_data_samples[\"callset_index\"] = hap_meta_data_samples.PGDP_ID.map(ID_to_callset)\n",
    "\n",
    "ID_to_callset_f = dict(zip(callset_f[\"samples\"][:], range(len(callset_f[\"samples\"][:]))))\n",
    "meta_data_samples_f = meta_data_samples_sci.loc[meta_data_samples_sci.PGDP_ID.isin(callset_f[\"samples\"][:])].copy()\n",
    "meta_data_samples_f[\"callset_index\"] = meta_data_samples_f.PGDP_ID.map(ID_to_callset_f)\n",
    "\n",
    "ID_to_callset_dip = dict(zip(callset_dipmale_chrX[\"samples\"][:], range(len(callset_dipmale_chrX[\"samples\"][:]))))\n",
    "meta_data_samples_dip = meta_data_samples_sci.loc[meta_data_samples_sci.PGDP_ID.isin(callset_dipmale_chrX[\"samples\"][:])].copy()\n",
    "meta_data_samples_dip[\"callset_index\"] = meta_data_samples_dip.PGDP_ID.map(ID_to_callset_dip)"
   ]
  },
  {
   "cell_type": "code",
   "execution_count": 4,
   "id": "1de2a7f1",
   "metadata": {},
   "outputs": [],
   "source": [
    "rfmix_path = \"/home/eriks/baboondiversity/people/eriks/second_analysis_baboons/steps/rfmix_gen100/tanzania_focus/\"\n",
    "df_l = []\n",
    "chroms = [\"chr{}\".format(x) for x in (range(1, 21))]+[\"all_chrX\", \"female_chrX\"]\n",
    "for c in chroms:\n",
    "    read_file = rfmix_path + \"{}.windows.txt\".format(c)\n",
    "    df = pd.read_csv(read_file, sep=\"\\t\")\n",
    "    df_l.append(df)\n",
    "window_df_tanz = pd.concat(df_l)\n",
    "mean_window_df_tanz = window_df_tanz.groupby([\"chrom\", \"individual\", \"start\", \"end\"]).mean().reset_index()\n",
    "tanz_olives = meta_data_samples_sci.loc[meta_data_samples_sci.C_origin == \"Anubis, Tanzania\"].PGDP_ID\n",
    "mean_window_df_tanz_olive = mean_window_df_tanz.loc[mean_window_df_tanz.individual.isin(tanz_olives)]"
   ]
  },
  {
   "cell_type": "code",
   "execution_count": 7,
   "id": "0761eddd",
   "metadata": {},
   "outputs": [
    {
     "name": "stdout",
     "output_type": "stream",
     "text": [
      "chrX\n",
      "chrX female_chrX\n"
     ]
    },
    {
     "name": "stderr",
     "output_type": "stream",
     "text": [
      "/scratch/25546149/ipykernel_1957803/933225791.py:72: SettingWithCopyWarning: \n",
      "A value is trying to be set on a copy of a slice from a DataFrame.\n",
      "Try using .loc[row_indexer,col_indexer] = value instead\n",
      "\n",
      "See the caveats in the documentation: https://pandas.pydata.org/pandas-docs/stable/user_guide/indexing.html#returning-a-view-versus-a-copy\n",
      "  c_rfmix[\"chrom\"] = c\n"
     ]
    }
   ],
   "source": [
    "focus_pop_tag = \"Anubis, Tanzania\"\n",
    "donor_1 = \"Anubis, Ethiopia\"\n",
    "donor_2 = \"Cynocephalus, Central Tanzania\"\n",
    "window_size = 100000\n",
    "all_chroms = [\"chrX\"] # [\"chr{}\".format(x) for x in (range(1, 21))]+[\"all_chrX\", \"chrX\", \"dipmale_chrX\"]\n",
    "\n",
    "def fst(ac1, ac2):\n",
    "    num, den = allel.hudson_fst(ac1, ac2, fill=0)\n",
    "    return np.sum(num) / np.sum(den)\n",
    "\n",
    "c_df_l = []\n",
    "for c in all_chroms:\n",
    "    print(c)\n",
    "    zarr_dir = \"/home/eriks/baboondiversity/data/PG_panu3_zarr_12_03_2021/callset.zarr/\" + c\n",
    "    #Opening the zarr data\n",
    "    callset = zarr.open_group(zarr_dir, mode=\"r\")\n",
    "    gt = allel.GenotypeArray(callset[\"calldata/GT\"])\n",
    "    pos = callset[\"variants/POS\"][:]\n",
    "    # Loading in the IDs and gt\n",
    "    if c == \"all_chrX\":\n",
    "        metadata = hap_meta_data_samples\n",
    "    elif c == \"chrX\":\n",
    "        metadata = meta_data_samples_f\n",
    "    elif c == \"dipmale_chrX\":\n",
    "        metadata = meta_data_samples_dip\n",
    "    else:\n",
    "        metadata = meta_data_samples\n",
    "    focus_pop_IDs = metadata.loc[metadata.C_origin == focus_pop_tag].PGDP_ID\n",
    "    focus_pop_gt = gt.take(metadata.loc[metadata.C_origin == focus_pop_tag].callset_index,\n",
    "                       axis=1)\n",
    "    donor_1_pop = metadata.loc[metadata.C_origin == donor_1].callset_index\n",
    "    donor_1_gt = gt.take(donor_1_pop, axis=1)\n",
    "    donor_2_pop = metadata.loc[metadata.C_origin == donor_2].callset_index\n",
    "    donor_2_gt = gt.take(donor_2_pop, axis=1)\n",
    "    df_l = []\n",
    "    for ind in focus_pop_IDs:\n",
    "        if ind[-1:] == \"b\":\n",
    "            continue\n",
    "        elif ind[-1:] == \"a\":\n",
    "            focus_ind_gt = focus_pop_gt = gt.take(metadata.loc[metadata.PGDP_ID.isin([ind, ind[:-1]+\"b\"])].callset_index,\n",
    "                           axis=1)\n",
    "            rest_pop_gt = focus_pop_gt = gt.take(metadata.loc[(~metadata.PGDP_ID.isin([ind, ind[:-1]+\"b\"])) &\n",
    "                                                                                   metadata.PGDP_ID.isin(focus_pop_IDs)].callset_index,\n",
    "                           axis=1)\n",
    "            ID = ind[:-2]\n",
    "        else:\n",
    "            focus_ind_gt = focus_pop_gt = gt.take(metadata.loc[metadata.PGDP_ID.isin([ind])].callset_index,\n",
    "                           axis=1)\n",
    "            rest_pop_gt = focus_pop_gt = gt.take(metadata.loc[(~metadata.PGDP_ID.isin([ind])) &\n",
    "                                                                               metadata.PGDP_ID.isin(focus_pop_IDs)].callset_index,\n",
    "                           axis=1)\n",
    "            ID = ind\n",
    "        if ID[0] != \"P\" or ID[0] != \"S\":\n",
    "            ID = \"Sci_\" + ID\n",
    "        dxy_focus, windows, n_bases, counts =  allel.windowed_divergence(pos, focus_ind_gt.count_alleles(),\n",
    "                          rest_pop_gt.count_alleles(), size=window_size, start=0)\n",
    "        dxy_donor_1, windows, n_bases, counts =  allel.windowed_divergence(pos, focus_ind_gt.count_alleles(),\n",
    "                          donor_1_gt.count_alleles(), size=window_size, start=0)\n",
    "        dxy_donor_2, windows, n_bases, counts =  allel.windowed_divergence(pos, focus_ind_gt.count_alleles(),\n",
    "                          donor_2_gt.count_alleles(), size=window_size, start=0)\n",
    "        df_l.append(pd.DataFrame({\"chrom\": c, \"individual\": ID, \"start\": windows[:,0], \"focus_div\": dxy_focus,\n",
    "                  \"donor_1_div\": dxy_donor_1, \"donor_2_div\": dxy_donor_2}))\n",
    "    focus_df = pd.concat(df_l)\n",
    "    if c == \"chrX\":\n",
    "        rf_c = \"female_chrX\"\n",
    "    elif c == \"dipmale_chrX\":\n",
    "        rf_c = \"all_chrX\"\n",
    "    else:\n",
    "        rf_c = c\n",
    "    print(c, rf_c)\n",
    "    c_rfmix = mean_window_df_tanz_olive.loc[mean_window_df_tanz_olive.chrom == rf_c]\n",
    "    c_rfmix[\"chrom\"] = c\n",
    "    per_ind_df = c_rfmix.merge(focus_df, on=[\"chrom\", \"individual\", \"start\"])\n",
    "    pi, windows, n_bases, counts_pi = allel.windowed_diversity(pos,\n",
    "                                                        ac=focus_pop_gt.count_alleles(), size=window_size, start=0)\n",
    "    fst1, windows, counts = allel.windowed_statistic(pos, (focus_pop_gt.count_alleles(),\n",
    "                                                      donor_1_gt.count_alleles()), fst, size=window_size, start=0)\n",
    "    fst2, windows, counts = allel.windowed_statistic(pos, (focus_pop_gt.count_alleles(),\n",
    "                                                      donor_2_gt.count_alleles()), fst, size=window_size, start=0)\n",
    "    theta_hat_w, windows, n_bases, counts = allel.windowed_watterson_theta(pos,\n",
    "                                                        ac=focus_pop_gt.count_alleles(), size=window_size, start=0)\n",
    "\n",
    "    group_stats = pd.DataFrame({\"chrom\": c, \"start\": windows[:,0], \"pi\": pi, \"count\": counts_pi,\n",
    "                            \"fst_1\": fst1, \"fst_2\": fst2, \"w_theta\": theta_hat_w})\n",
    "    ind_group_df = per_ind_df.merge(group_stats, on=[\"chrom\", \"start\"])\n",
    "    ind_group_df.to_csv(\"../steps/rfmix_stats_df/{}_stats_tanz_anubis.txt\".format(c), index=False)"
   ]
  }
 ],
 "metadata": {
  "kernelspec": {
   "display_name": "Python 3 (ipykernel)",
   "language": "python",
   "name": "python3"
  },
  "language_info": {
   "codemirror_mode": {
    "name": "ipython",
    "version": 3
   },
   "file_extension": ".py",
   "mimetype": "text/x-python",
   "name": "python",
   "nbconvert_exporter": "python",
   "pygments_lexer": "ipython3",
   "version": "3.8.17"
  }
 },
 "nbformat": 4,
 "nbformat_minor": 5
}
